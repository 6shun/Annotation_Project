{
  "cells": [
    {
      "cell_type": "markdown",
      "metadata": {
        "id": "iEKn66uEsbYu"
      },
      "source": [
        "L2-regularized logistic regression for binary or multiclass classification; trains a model (on `train.txt`), optimizes L2 regularization strength on `dev.txt`, and evaluates performance on `test.txt`.  Reports test accuracy with 95% confidence intervals and prints out the strongest coefficients for each class."
      ]
    },
    {
      "cell_type": "code",
      "execution_count": null,
      "metadata": {
        "id": "TQTT9x-6d2JI"
      },
      "outputs": [],
      "source": [
        "from scipy import sparse\n",
        "from sklearn import linear_model\n",
        "from sklearn.metrics import confusion_matrix, ConfusionMatrixDisplay, precision_recall_fscore_support\n",
        "import matplotlib.pyplot as plt\n",
        "import pandas as pd\n",
        "from collections import Counter\n",
        "import numpy as np\n",
        "import operator\n",
        "import nltk\n",
        "import math\n",
        "from scipy.stats import norm"
      ]
    },
    {
      "cell_type": "code",
      "execution_count": null,
      "metadata": {
        "colab": {
          "base_uri": "https://localhost:8080/"
        },
        "id": "e4KuVSCSqlUX",
        "outputId": "8edc21a8-fa4a-4f17-df73-d18b25faa589",
        "scrolled": true
      },
      "outputs": [
        {
          "output_type": "stream",
          "name": "stdout",
          "text": [
            "/usr/lib/python3.7/runpy.py:125: RuntimeWarning: 'nltk.downloader' found in sys.modules after import of package 'nltk', but prior to execution of 'nltk.downloader'; this may result in unpredictable behaviour\n",
            "  warn(RuntimeWarning(msg))\n",
            "[nltk_data] Downloading package punkt to /root/nltk_data...\n",
            "[nltk_data]   Package punkt is already up-to-date!\n"
          ]
        }
      ],
      "source": [
        "!python -m nltk.downloader punkt"
      ]
    },
    {
      "cell_type": "code",
      "execution_count": null,
      "metadata": {
        "id": "0J3LMQg7sbYw"
      },
      "outputs": [],
      "source": [
        "def load_data(filename):\n",
        "    X = []\n",
        "    Y = []\n",
        "    with open(filename, encoding=\"utf-8\") as file:\n",
        "        for line in file:\n",
        "            cols = line.split(\"\\t\")\n",
        "            idd = cols[0]\n",
        "            label = cols[1].lstrip().rstrip()\n",
        "            text = cols[2]\n",
        "\n",
        "            X.append(text)\n",
        "            Y.append(label)\n",
        "\n",
        "    return X, Y\n"
      ]
    },
    {
      "cell_type": "code",
      "execution_count": null,
      "metadata": {
        "id": "CGiM8qQiJOBU"
      },
      "outputs": [],
      "source": [
        "class Classifier:\n",
        "\n",
        "    def __init__(self, feature_method, trainX, trainY, devX, devY, testX, testY):\n",
        "        self.feature_vocab = {}\n",
        "        self.feature_method = feature_method\n",
        "        self.min_feature_count=2\n",
        "        self.log_reg = None\n",
        "\n",
        "        self.trainY=trainY\n",
        "        self.devY=devY\n",
        "        self.testY=testY\n",
        "        \n",
        "        self.trainX = self.process(trainX, training=True)\n",
        "        self.devX = self.process(devX, training=False)\n",
        "        self.testX = self.process(testX, training=False)\n",
        "\n",
        "    # Featurize entire dataset\n",
        "    def featurize(self, data):\n",
        "        featurized_data = []\n",
        "        for text in data:\n",
        "            feats = self.feature_method(text)\n",
        "            featurized_data.append(feats)\n",
        "        return featurized_data\n",
        "\n",
        "    # Read dataset and returned featurized representation as sparse matrix + label array\n",
        "    def process(self, X_data, training = False):\n",
        "        \n",
        "        data = self.featurize(X_data)\n",
        "\n",
        "        if training:\n",
        "            fid = 0\n",
        "            feature_doc_count = Counter()\n",
        "            for feats in data:\n",
        "                for feat in feats:\n",
        "                    feature_doc_count[feat]+= 1\n",
        "\n",
        "            for feat in feature_doc_count:\n",
        "                if feature_doc_count[feat] >= self.min_feature_count:\n",
        "                    self.feature_vocab[feat] = fid\n",
        "                    fid += 1\n",
        "\n",
        "        F = len(self.feature_vocab)\n",
        "        D = len(data)\n",
        "        X = sparse.dok_matrix((D, F))\n",
        "        for idx, feats in enumerate(data):\n",
        "            for feat in feats:\n",
        "                if feat in self.feature_vocab:\n",
        "                    X[idx, self.feature_vocab[feat]] = feats[feat]\n",
        "\n",
        "        return X\n",
        "\n",
        "\n",
        "    # Train model and evaluate on held-out data\n",
        "    def train(self):\n",
        "        (D,F) = self.trainX.shape\n",
        "        best_dev_accuracy=0\n",
        "        best_model=None\n",
        "        for C in [0.1, 1, 10, 100]:\n",
        "            self.log_reg = linear_model.LogisticRegression(C = C, max_iter=1000)\n",
        "            # tune the hyperparameter class_weight as 'balanced' to improve the imbalance distribution of data(majority class 0.77) -- test acc decreased\n",
        "            self.log_reg.fit(self.trainX, self.trainY)\n",
        "            training_accuracy = self.log_reg.score(self.trainX, self.trainY)\n",
        "            development_accuracy = self.log_reg.score(self.devX, self.devY)\n",
        "            if development_accuracy > best_dev_accuracy:\n",
        "                best_dev_accuracy=development_accuracy\n",
        "                best_model=self.log_reg\n",
        "\n",
        "#             print(\"C: %s, Train accuracy: %.3f, Dev accuracy: %.3f\" % (C, training_accuracy, development_accuracy))\n",
        "\n",
        "        self.log_reg=best_model\n",
        "        \n",
        "\n",
        "    def test(self):\n",
        "        return self.log_reg.score(self.testX, self.testY)\n",
        "        \n",
        "\n",
        "    def printWeights(self, n=10):\n",
        "        \n",
        "        print(len(self.log_reg.coef_[0]))\n",
        "\n",
        "        reverse_vocab=[None]*len(self.log_reg.coef_[0])\n",
        "        for k in self.feature_vocab:\n",
        "            reverse_vocab[self.feature_vocab[k]]=k\n",
        "\n",
        "        # binary\n",
        "        if len(self.log_reg.classes_) == 2:\n",
        "              weights=self.log_reg.coef_[0]\n",
        "\n",
        "              cat=self.log_reg.classes_[1]\n",
        "              for feature, weight in list(reversed(sorted(zip(reverse_vocab, weights), key = operator.itemgetter(1))))[:n]:\n",
        "                  print(\"%s\\t%.3f\\t%s\" % (cat, weight, feature))\n",
        "              print()\n",
        "\n",
        "              cat=self.log_reg.classes_[0]\n",
        "              for feature, weight in list(sorted(zip(reverse_vocab, weights), key = operator.itemgetter(1)))[:n]:\n",
        "                  print(\"%s\\t%.3f\\t%s\" % (cat, weight, feature))\n",
        "              print()\n",
        "\n",
        "        # multiclass\n",
        "        else:\n",
        "          for i, cat in enumerate(self.log_reg.classes_):\n",
        "\n",
        "              weights=self.log_reg.coef_[i]\n",
        "\n",
        "              for feature, weight in list(reversed(sorted(zip(reverse_vocab, weights), key = operator.itemgetter(1))))[:n]:\n",
        "                  print(\"%s\\t%.3f\\t%s\" % (cat, weight, feature))\n",
        "              print()\n",
        "\n",
        "    def printConfusionMatrix(self):\n",
        "        self.y_pred = self.log_reg.predict(self.testX)\n",
        "        print(precision_recall_fscore_support(self.testY, self.y_pred, pos_label='1', average='binary'))\n",
        "        cm = confusion_matrix(self.testY, self.y_pred)\n",
        "        print(\"\\n\\n\")\n",
        "        disp = ConfusionMatrixDisplay(confusion_matrix=cm,display_labels=self.log_reg.classes_)\n",
        "        disp.plot()\n",
        "        plt.show()\n",
        "        print(\"\\n\\n\")\n",
        "\n",
        "    def printMisclassifiedData(self):\n",
        "        df = pd.DataFrame(columns=['Error Type', 'Category', 'Content'])\n",
        "        misclassified = np.where(self.testY != self.y_pred)\n",
        "        X,Y = load_data(\"test.txt\")\n",
        "        for i in misclassified[0]:\n",
        "          category, content = X[i].split(';')\n",
        "          t = \"FP\"\n",
        "          if self.y_pred[i]=='0':\n",
        "            t = \"FN\"\n",
        "          df.loc[len(df.index)] = [t, category, content] \n",
        "        print(df)\n",
        "        df.to_csv(\"LogRegMistakes.csv\")\n",
        "\n",
        "            "
      ]
    },
    {
      "cell_type": "code",
      "execution_count": null,
      "metadata": {
        "id": "Xaq_NwAgsbYy"
      },
      "outputs": [],
      "source": [
        "def binary_bow_featurize(text):\n",
        "    feats = {}\n",
        "    #adding critical features according to the guideline\n",
        "    #“Not clickbait” is a clickbait \n",
        "    text1 = text.lower()\n",
        "    if 'not clickbait' in text1:\n",
        "      feats['NOT_CLICKBAIT']=1\n",
        "    else:\n",
        "      feats['NOT_CLICKBAIT']=0\n",
        "    #no change in test acc\n",
        "\n",
        "    '''#Lots of Capitalized Letters -- clickbait\n",
        "    cap_count = 0\n",
        "    for c in text:\n",
        "      if c.isupper():\n",
        "        cap_count+=1\n",
        "    cap_prop = cap_count/len(text)\n",
        "    #feats['cap_count']=cap_count\n",
        "    feats['cap_prop']=cap_prop\n",
        "    # test acc decreased to 0.75'''\n",
        "\n",
        "    words = nltk.word_tokenize(text)\n",
        "\n",
        "    est_count = 0 \n",
        "\n",
        "    for word in words:\n",
        "      word=word.lower()\n",
        "      if 'est' in word:\n",
        "        est_count += 1\n",
        "      feats['est_count'] = est_count  #Superlative adjectives and adverbs, increased test acc from 0.765 to 0.790\n",
        "\n",
        "      feats[word] = 1\n",
        "       # change 0/1 into word appear counts, decreased test acc from 0.790 to 0.785\n",
        "           \n",
        "    return feats\n",
        "\n"
      ]
    },
    {
      "cell_type": "code",
      "execution_count": null,
      "metadata": {
        "id": "UjNlW-p4sbYy"
      },
      "outputs": [],
      "source": [
        "def confidence_intervals(accuracy, n, significance_level):\n",
        "    critical_value=(1-significance_level)/2\n",
        "    z_alpha=-1*norm.ppf(critical_value)\n",
        "    se=math.sqrt((accuracy*(1-accuracy))/n)\n",
        "    return accuracy-(se*z_alpha), accuracy+(se*z_alpha)"
      ]
    },
    {
      "cell_type": "code",
      "execution_count": null,
      "metadata": {
        "id": "cRpma5YKsbYy"
      },
      "outputs": [],
      "source": [
        "def run(trainingFile, devFile, testFile):\n",
        "    trainX, trainY=load_data(trainingFile)\n",
        "    devX, devY=load_data(devFile)\n",
        "    testX, testY=load_data(testFile)\n",
        "    \n",
        "    simple_classifier = Classifier(binary_bow_featurize, trainX, trainY, devX, devY, testX, testY)\n",
        "    simple_classifier.train()\n",
        "    accuracy=simple_classifier.test()\n",
        "    \n",
        "    lower, upper=confidence_intervals(accuracy, len(devY), .95)\n",
        "    print(\"Test accuracy for best dev model: %.3f, 95%% CIs: [%.3f %.3f]\\n\" % (accuracy, lower, upper))\n",
        "\n",
        "    simple_classifier.printWeights(30)\n",
        "    simple_classifier.printConfusionMatrix()\n",
        "    simple_classifier.printMisclassifiedData()\n"
      ]
    },
    {
      "cell_type": "code",
      "source": [
        "# Mount drive to save models and logs\n",
        "from google.colab import drive\n",
        "drive.mount('/content/drive')"
      ],
      "metadata": {
        "colab": {
          "base_uri": "https://localhost:8080/"
        },
        "id": "7knLOz8huLhW",
        "outputId": "254bf08e-2062-466e-9ad3-c5cff36208c0"
      },
      "execution_count": null,
      "outputs": [
        {
          "output_type": "stream",
          "name": "stdout",
          "text": [
            "Drive already mounted at /content/drive; to attempt to forcibly remount, call drive.mount(\"/content/drive\", force_remount=True).\n"
          ]
        }
      ]
    },
    {
      "cell_type": "code",
      "source": [
        "import os\n",
        "root_folder = \"/content/drive/My Drive/AP4 data/\"\n",
        "os.makedirs(root_folder, exist_ok=True)\n",
        "os.chdir(root_folder)"
      ],
      "metadata": {
        "id": "EA5Ycba-uajG"
      },
      "execution_count": null,
      "outputs": []
    },
    {
      "cell_type": "code",
      "execution_count": null,
      "metadata": {
        "colab": {
          "base_uri": "https://localhost:8080/",
          "height": 1000
        },
        "id": "eePIcLd5sbYz",
        "outputId": "1243685f-7a3b-45a7-a373-8c95ce2ef468"
      },
      "outputs": [
        {
          "output_type": "stream",
          "name": "stdout",
          "text": [
            "Test accuracy for best dev model: 0.790, 95% CIs: [0.734 0.846]\n",
            "\n",
            "660\n",
            "1\t2.283\tmost\n",
            "1\t1.727\tworld\n",
            "1\t1.673\tdebunk\n",
            "1\t1.648\t10\n",
            "1\t1.450\test_count\n",
            "1\t1.343\ttop\n",
            "1\t1.243\tbest\n",
            "1\t1.198\t$\n",
            "1\t1.161\tthis\n",
            "1\t1.071\tmoments\n",
            "1\t1.025\tamd\n",
            "1\t1.010\tlast\n",
            "1\t1.008\tout\n",
            "1\t1.007\tuniverse\n",
            "1\t0.998\tby\n",
            "1\t0.988\tgirl\n",
            "1\t0.976\tmillion\n",
            "1\t0.960\tfix\n",
            "1\t0.957\tno\n",
            "1\t0.944\tdramaalert\n",
            "1\t0.924\tkitchen\n",
            "1\t0.916\tworst\n",
            "1\t0.874\tevery\n",
            "1\t0.843\tgame\n",
            "1\t0.837\tever\n",
            "1\t0.807\thydroneer\n",
            "1\t0.802\tcooked\n",
            "1\t0.797\tdeadly\n",
            "1\t0.795\t#\n",
            "1\t0.791\tcar\n",
            "\n",
            "0\t-1.268\tfrom\n",
            "0\t-0.917\t|\n",
            "0\t-0.889\tcomedy\n",
            "0\t-0.859\tbuilding\n",
            "0\t-0.819\tbbc\n",
            "0\t-0.818\treview\n",
            "0\t-0.727\twith\n",
            "0\t-0.701\tmy\n",
            "0\t-0.696\thonest\n",
            "0\t-0.696\ttrailers\n",
            "0\t-0.695\tfast\n",
            "0\t-0.687\tprobably\n",
            "0\t-0.674\tvs\n",
            "0\t-0.662\tchef\n",
            "0\t-0.651\ttest\n",
            "0\t-0.650\t2017\n",
            "0\t-0.622\twhen\n",
            "0\t-0.609\tyour\n",
            "0\t-0.585\tspent\n",
            "0\t-0.573\this\n",
            "0\t-0.570\tcode\n",
            "0\t-0.561\tcs\n",
            "0\t-0.560\tjavascript\n",
            "0\t-0.551\tshow\n",
            "0\t-0.548\tat\n",
            "0\t-0.543\tjoe\n",
            "0\t-0.540\tlive\n",
            "0\t-0.539\tvideo\n",
            "0\t-0.503\tguys\n",
            "0\t-0.491\tfish\n",
            "\n",
            "(0.5555555555555556, 0.43478260869565216, 0.4878048780487805, None)\n",
            "\n",
            "\n",
            "\n"
          ]
        },
        {
          "output_type": "display_data",
          "data": {
            "text/plain": [
              "<Figure size 432x288 with 2 Axes>"
            ],
            "image/png": "[encoded data removed]"
          },
          "metadata": {
            "needs_background": "light"
          }
        },
        {
          "output_type": "stream",
          "name": "stdout",
          "text": [
            "\n",
            "\n",
            "\n",
            "   Error Type              Category  \\\n",
            "0          FN                  Blog   \n",
            "1          FN           Blog,Comedy   \n",
            "2          FN    Blog,Entertainment   \n",
            "3          FN            Automobile   \n",
            "4          FP               Science   \n",
            "5          FN           Tech,Comedy   \n",
            "6          FP                  Blog   \n",
            "7          FN               Science   \n",
            "8          FP                  Blog   \n",
            "9          FP                  Tech   \n",
            "10         FP               Science   \n",
            "11         FP                  Tech   \n",
            "12         FN                  Food   \n",
            "13         FN               Science   \n",
            "14         FN            Automobile   \n",
            "15         FN  Comedy,Entertainment   \n",
            "16         FN                  Food   \n",
            "17         FP                  Blog   \n",
            "18         FN               Science   \n",
            "19         FN                  Tech   \n",
            "20         FP               Science   \n",
            "21         FN          Blog,Science   \n",
            "22         FN                  News   \n",
            "23         FP           Informative   \n",
            "24         FP                  Food   \n",
            "25         FN            VideoGames   \n",
            "26         FN            VideoGames   \n",
            "27         FN                  Food   \n",
            "28         FN            VideoGames   \n",
            "29         FP            VideoGames   \n",
            "30         FN    Food,Entertainment   \n",
            "31         FN             Tech,News   \n",
            "32         FP                  Blog   \n",
            "33         FN            Automobile   \n",
            "34         FP    Food,Entertainment   \n",
            "35         FP            VideoGames   \n",
            "36         FP                  Tech   \n",
            "37         FN                  News   \n",
            "38         FN                  Food   \n",
            "39         FN            VideoGames   \n",
            "40         FP                  Blog   \n",
            "41         FN         Entertainment   \n",
            "\n",
            "                                              Content  \n",
            "0            26 Traits Japanese Girls Want in a Guy\\n  \n",
            "1                           The Real Mighty Thirsty\\n  \n",
            "2     Going Through The Same Drive Thru 1,000 Times\\n  \n",
            "3    2021 Ford F-150 POWERBOOST Review - INCREDIBL...  \n",
            "4                  The Edge of an Infinite Universe\\n  \n",
            "5                             Don't Be A Programmer\\n  \n",
            "6    Jake Paul SWATTTED! & Dropped by Disney! #Dra...  \n",
            "7      5 REAL Possibilities for Interstellar Travel\\n  \n",
            "8    Japan's Biggest Gaming Obsession Explained | ...  \n",
            "9    Can You Actually Game in 8K? (RTX 3090 Gamepl...  \n",
            "10   If the Universe is expanding, where is the ce...  \n",
            "11                 Is a $100 Game Console Worth It?\\n  \n",
            "12        Penis Pesto Pizza Taste Test | FOOD FEARS\\n  \n",
            "13   Why Snatch Blocks are AWESOME (How Pulleys Wo...  \n",
            "14   Living With A Renault Twizy: What It's REALLY...  \n",
            "15   Kim & Kanye's Unborn Baby Makes A Run For It ...  \n",
            "16   How To Fillet Every Fish | Method Mastery | E...  \n",
            "17   Jake Paul says N-Word! #DramaAlert Logan Paul...  \n",
            "18      Making 500,000 VOLT ARC with Marx Generator\\n  \n",
            "19   Double or Triple Your Internet Speed - This M...  \n",
            "20   Is TON-618 the Largest Black Hole in the Univ...  \n",
            "21   The Value of F*** YOU money | Joe Rogan and L...  \n",
            "22                 Live PD: Top 6 Worst Liars | A&E\\n  \n",
            "23                             Floating City DEBUNK\\n  \n",
            "24   Chicken Soup Impresses Gordon! | Hell's Kitch...  \n",
            "25   I Built an Airport of Suffering Where Nobody ...  \n",
            "26   MASSIVE APEX LEGENDS PACKS OPENING (200+ PACK...  \n",
            "27   Kids Try 100 Years of Brown Bag Lunches from ...  \n",
            "28                                    PUBG IN VR!!!\\n  \n",
            "29                   Try Not To Laugh Challenge #16\\n  \n",
            "30   Ken Jeong Performs a Physical While Eating Sp...  \n",
            "31                     HA! No One's Buying iPhones!\\n  \n",
            "32            I Joined Team 10 So You Don't Have To\\n  \n",
            "33                           How To Be A BMW Driver\\n  \n",
            "34   Gabriel Iglesias Does Wrestling Trivia While ...  \n",
            "35                    Try Not To Laugh Challenge #5\\n  \n",
            "36      Cool Keyboards You May Have Never Heard Of!\\n  \n",
            "37   We Decoded The Nuclear Weapons At North Korea...  \n",
            "38   Every Way to Cook an Egg (59 Methods) | Bon A...  \n",
            "39                                             WOOF\\n  \n",
            "40   Logan Paul ROASTED by Dolan Twins! #DramaAler...  \n",
            "41                         $27 Cake Vs. $1,120 Cake\\n  \n"
          ]
        }
      ],
      "source": [
        "gid=0\n",
        "trainingFile = \"train.txt\" \n",
        "devFile = \"dev.txt\" \n",
        "testFile = \"test.txt\" \n",
        "    \n",
        "run(trainingFile, devFile, testFile)\n"
      ]
    },
    {
      "cell_type": "code",
      "execution_count": null,
      "metadata": {
        "id": "DEDp3SLlsbYz"
      },
      "outputs": [],
      "source": [
        ""
      ]
    }
  ],
  "metadata": {
    "colab": {
      "collapsed_sections": [],
      "name": "LogReg_tw_yy_JR.ipynb",
      "provenance": []
    },
    "kernelspec": {
      "display_name": "Python 3 (ipykernel)",
      "language": "python",
      "name": "python3"
    },
    "language_info": {
      "codemirror_mode": {
        "name": "ipython",
        "version": 3
      },
      "file_extension": ".py",
      "mimetype": "text/x-python",
      "name": "python",
      "nbconvert_exporter": "python",
      "pygments_lexer": "ipython3",
      "version": "3.8.8"
    }
  },
  "nbformat": 4,
  "nbformat_minor": 0
}